{
 "cells": [
  {
   "cell_type": "code",
   "execution_count": 2,
   "id": "ff620ef9-f4bb-4774-9fdf-22b31a443f9d",
   "metadata": {},
   "outputs": [],
   "source": [
    "#importing important libraries\n",
    "from bs4 import BeautifulSoup as bs\n",
    "import pandas as pd\n",
    "import requests \n",
    "import json\n",
    "import time\n",
    "import csv\n",
    "import pickle\n",
    "from os.path import exist \n",
    "\n",
    "from selenium import webdriver\n",
    "from selenium.webdriver.firefox.service import Service as FirefoxService\n",
    "from webdriver_manager.firefox import GeckoDriverManager\n",
    "from selenium.webdriver.common.by import By\n",
    "from selenium.webdriver.common.keys import Keys\n",
    "from selenium.webdriver.common.window import WindowTypes\n",
    "\n",
    "\n",
    "\n"
   ]
  },
  {
   "cell_type": "markdown",
   "id": "24aae85d-90e6-4d46-8fe8-eae9eb852eaf",
   "metadata": {},
   "source": [
    "## Function Decleration \n"
   ]
  },
  {
   "cell_type": "markdown",
   "id": "6e21fb53-9ce3-4213-a35b-6ddf46263584",
   "metadata": {},
   "source": [
    "\n",
    "Some neccesery changes to the web-engine are required to avoid detection by bot protection services (such as Cloudflare), \n",
    "* set the window to its maximum size "
   ]
  },
  {
   "cell_type": "code",
   "execution_count": 9,
   "id": "385cdf12-e17a-4d8a-8277-9c327b034b27",
   "metadata": {},
   "outputs": [],
   "source": [
    "def create_webdriver() -> webdriver.Firefox:\n",
    "    ''' Installs the latest version of webdriver using webdriver installer , \n",
    "        applies options in paramerters and returns webdriver'''\n",
    "    driver = webdriver.Firefox(service=FirefoxService(GeckoDriverManager().install())) \n",
    "    print(\"Successfly loaded webdriver with credentials\")\n",
    "    return driver\n"
   ]
  },
  {
   "cell_type": "code",
   "execution_count": null,
   "id": "e44a0144-f195-4afe-909d-83a317aff138",
   "metadata": {},
   "outputs": [],
   "source": [
    "def login_with_credentials(driver ,username , password):\n",
    "    ''' if pickle cookies is present the cookies file is loaded in selenium , else runs a login script'''\n",
    "    with open('cookies.pkl', 'rb'):\n",
    "        "
   ]
  },
  {
   "cell_type": "code",
   "execution_count": null,
   "id": "173cc6c9-6891-44f2-8af6-829169ef255c",
   "metadata": {},
   "outputs": [],
   "source": [
    "def pull_people_list_from_institution(institution_name : str) -> csv:\n",
    "    '''creates a csv file with researchers from 'name'  - name of an institution\n",
    "       the csv file inclued '''\n",
    "    with open('people_list.csv' , 'a') as f: #appending to the end of the file \n",
    "        \n",
    "        \n",
    "    "
   ]
  },
  {
   "cell_type": "code",
   "execution_count": null,
   "id": "1d0fcf69-f821-424a-b73d-5a80cae400dc",
   "metadata": {},
   "outputs": [],
   "source": [
    "def main(**kwargs):\n",
    "    "
   ]
  },
  {
   "cell_type": "code",
   "execution_count": null,
   "id": "4996c8b7-e53a-46e4-8fdc-dce9a756ab69",
   "metadata": {},
   "outputs": [],
   "source": []
  }
 ],
 "metadata": {
  "kernelspec": {
   "display_name": "Python 3 (ipykernel)",
   "language": "python",
   "name": "python3"
  },
  "language_info": {
   "codemirror_mode": {
    "name": "ipython",
    "version": 3
   },
   "file_extension": ".py",
   "mimetype": "text/x-python",
   "name": "python",
   "nbconvert_exporter": "python",
   "pygments_lexer": "ipython3",
   "version": "3.10.6"
  }
 },
 "nbformat": 4,
 "nbformat_minor": 5
}
